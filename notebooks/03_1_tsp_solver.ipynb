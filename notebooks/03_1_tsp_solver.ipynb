{
 "cells": [
  {
   "cell_type": "code",
   "execution_count": 1,
   "metadata": {
    "ExecuteTime": {
     "end_time": "2025-04-23T01:34:31.670339Z",
     "start_time": "2025-04-23T01:34:29.808234Z"
    },
    "collapsed": false
   },
   "outputs": [],
   "source": [
    "import math\n",
    "import numpy as np\n",
    "from sklearn.cluster import KMeans\n",
    "from ortools.constraint_solver import routing_enums_pb2\n",
    "from ortools.constraint_solver import pywrapcp"
   ]
  },
  {
   "cell_type": "code",
   "execution_count": 2,
   "metadata": {
    "ExecuteTime": {
     "end_time": "2025-04-23T01:34:31.676032Z",
     "start_time": "2025-04-23T01:34:31.673018Z"
    },
    "collapsed": false
   },
   "outputs": [],
   "source": [
    "# --------------------------------------\n",
    "# Step 1: 입력 데이터 정의 (지점 좌표)\n",
    "# --------------------------------------\n",
    "points = [\n",
    "    {\"id\": 1, \"latitude\": 37.5665, \"longitude\": 126.9780},  # 서울\n",
    "    {\"id\": 2, \"latitude\": 37.4563, \"longitude\": 126.7052},  # 인천\n",
    "    {\"id\": 3, \"latitude\": 37.3850, \"longitude\": 126.9021},  # 안양\n",
    "    # ... 실제 사용 시 전체 지점 추가\n",
    "]"
   ]
  },
  {
   "cell_type": "code",
   "execution_count": 3,
   "metadata": {
    "ExecuteTime": {
     "end_time": "2025-04-23T01:34:31.732635Z",
     "start_time": "2025-04-23T01:34:31.729633Z"
    },
    "collapsed": false
   },
   "outputs": [
    {
     "name": "stdout",
     "output_type": "stream",
     "text": [
      "총 지점 수: 3, 필요 차량 수: 1\n"
     ]
    }
   ],
   "source": [
    "# --------------------------------------\n",
    "# Step 2.5: 필요 트럭 수 계산\n",
    "# --------------------------------------\n",
    "def required_trucks(total_items, capacity_per_truck=50):\n",
    "    return math.ceil(total_items / capacity_per_truck)\n",
    "\n",
    "total_items = len(points)\n",
    "max_per_vehicle = 50\n",
    "num_vehicles = required_trucks(total_items, max_per_vehicle)\n",
    "print(f\"총 지점 수: {total_items}, 필요 차량 수: {num_vehicles}\")\n"
   ]
  },
  {
   "cell_type": "code",
   "execution_count": 4,
   "metadata": {
    "ExecuteTime": {
     "end_time": "2025-04-23T01:34:31.781785Z",
     "start_time": "2025-04-23T01:34:31.729992Z"
    },
    "collapsed": false
   },
   "outputs": [],
   "source": [
    "# Step 3: 지점 클러스터링 (KMeans)\n",
    "# --------------------------------------\n",
    "coords = np.array([[p[\"latitude\"], p[\"longitude\"]] for p in points])\n",
    "kmeans = KMeans(n_clusters=num_vehicles, random_state=42)\n",
    "labels = kmeans.fit_predict(coords)\n",
    "\n",
    "# 클러스터별 분리\n",
    "clustered_points = [[] for _ in range(num_vehicles)]\n",
    "for point, label in zip(points, labels):\n",
    "    clustered_points[label].append(point)"
   ]
  },
  {
   "cell_type": "code",
   "execution_count": 5,
   "metadata": {
    "ExecuteTime": {
     "end_time": "2025-04-23T01:34:31.792056Z",
     "start_time": "2025-04-23T01:34:31.785834Z"
    },
    "collapsed": false
   },
   "outputs": [],
   "source": [
    "# --------------------------------------\n",
    "# Step 4: 각 클러스터별 CVRP 최적화\n",
    "# --------------------------------------\n",
    "def compute_euclidean_distance_matrix(locations):\n",
    "    size = len(locations)\n",
    "    matrix = {}\n",
    "    for from_idx in range(size):\n",
    "        matrix[from_idx] = {}\n",
    "        for to_idx in range(size):\n",
    "            if from_idx == to_idx:\n",
    "                matrix[from_idx][to_idx] = 0\n",
    "            else:\n",
    "                dx = locations[from_idx][0] - locations[to_idx][0]\n",
    "                dy = locations[from_idx][1] - locations[to_idx][1]\n",
    "                matrix[from_idx][to_idx] = int(math.hypot(dx, dy) * 1e6)\n",
    "    return matrix\n",
    "\n",
    "def solve_cvrp(cluster, vehicle_capacity=50):\n",
    "    # 좌표 및 수요 정의\n",
    "    depot = cluster[0]  # 첫 지점을 depot으로 사용\n",
    "    locations = [[p[\"latitude\"], p[\"longitude\"]] for p in cluster]\n",
    "    demands = [1] * len(cluster)\n",
    "    distance_matrix = compute_euclidean_distance_matrix(locations)\n",
    "\n",
    "    # OR-Tools 데이터 모델\n",
    "    data = {\n",
    "        \"distance_matrix\": distance_matrix,\n",
    "        \"demands\": demands,\n",
    "        \"vehicle_capacities\": [vehicle_capacity],\n",
    "        \"num_vehicles\": 1,\n",
    "        \"depot\": 0,\n",
    "    }\n",
    "\n",
    "    # Routing Index Manager & Model\n",
    "    manager = pywrapcp.RoutingIndexManager(len(data[\"distance_matrix\"]), data[\"num_vehicles\"], data[\"depot\"])\n",
    "    routing = pywrapcp.RoutingModel(manager)\n",
    "\n",
    "    # 거리 함수 설정\n",
    "    def distance_callback(from_index, to_index):\n",
    "        return data[\"distance_matrix\"][manager.IndexToNode(from_index)][manager.IndexToNode(to_index)]\n",
    "    transit_callback_index = routing.RegisterTransitCallback(distance_callback)\n",
    "    routing.SetArcCostEvaluatorOfAllVehicles(transit_callback_index)\n",
    "\n",
    "    # 용량 제약\n",
    "    def demand_callback(from_index):\n",
    "        return data[\"demands\"][manager.IndexToNode(from_index)]\n",
    "    demand_callback_index = routing.RegisterUnaryTransitCallback(demand_callback)\n",
    "    routing.AddDimensionWithVehicleCapacity(\n",
    "        demand_callback_index,\n",
    "        0,\n",
    "        data[\"vehicle_capacities\"],\n",
    "        True,\n",
    "        \"Capacity\"\n",
    "    )\n",
    "\n",
    "    # Search parameters\n",
    "    search_parameters = pywrapcp.DefaultRoutingSearchParameters()\n",
    "    search_parameters.first_solution_strategy = routing_enums_pb2.FirstSolutionStrategy.PATH_CHEAPEST_ARC\n",
    "\n",
    "    # Solve\n",
    "    solution = routing.SolveWithParameters(search_parameters)\n",
    "\n",
    "    # 결과 출력\n",
    "    if solution:\n",
    "        index = routing.Start(0)\n",
    "        route = []\n",
    "        while not routing.IsEnd(index):\n",
    "            route.append(manager.IndexToNode(index))\n",
    "            index = solution.Value(routing.NextVar(index))\n",
    "        route.append(manager.IndexToNode(index))\n",
    "        print(f\"🚚 최적 경로: {route}\")\n",
    "    else:\n",
    "        print(\"❌ 경로를 찾을 수 없습니다.\")"
   ]
  },
  {
   "cell_type": "code",
   "execution_count": 6,
   "metadata": {
    "ExecuteTime": {
     "end_time": "2025-04-23T01:34:31.841971Z",
     "start_time": "2025-04-23T01:34:31.789190Z"
    },
    "collapsed": false
   },
   "outputs": [
    {
     "name": "stdout",
     "output_type": "stream",
     "text": [
      "\n",
      "🔹 클러스터 1 (지점 수: 3개)\n",
      "🚚 최적 경로: [0, 2, 1, 0]\n"
     ]
    }
   ],
   "source": [
    "# --------------------------------------\n",
    "# Step 5: 클러스터별 경로 최적화 실행\n",
    "# --------------------------------------\n",
    "for i, cluster in enumerate(clustered_points):\n",
    "    print(f\"\\n🔹 클러스터 {i+1} (지점 수: {len(cluster)}개)\")\n",
    "    solve_cvrp(cluster, vehicle_capacity=max_per_vehicle)"
   ]
  }
 ],
 "metadata": {
  "kernelspec": {
   "display_name": "Python 3 (ipykernel)",
   "language": "python",
   "name": "python3"
  }
 },
 "nbformat": 4,
 "nbformat_minor": 0
}
