{
 "cells": [
  {
   "cell_type": "code",
   "outputs": [
    {
     "data": {
      "text/plain": "        id   latitude   longitude\n0  9999978  37.515458  127.021448\n1  9999967  37.515458  127.021448\n2  9999966  37.515458  127.021448\n3  9999965  37.515458  127.021448\n4  9999963  37.515458  127.021448",
      "text/html": "<div>\n<style scoped>\n    .dataframe tbody tr th:only-of-type {\n        vertical-align: middle;\n    }\n\n    .dataframe tbody tr th {\n        vertical-align: top;\n    }\n\n    .dataframe thead th {\n        text-align: right;\n    }\n</style>\n<table border=\"1\" class=\"dataframe\">\n  <thead>\n    <tr style=\"text-align: right;\">\n      <th></th>\n      <th>id</th>\n      <th>latitude</th>\n      <th>longitude</th>\n    </tr>\n  </thead>\n  <tbody>\n    <tr>\n      <th>0</th>\n      <td>9999978</td>\n      <td>37.515458</td>\n      <td>127.021448</td>\n    </tr>\n    <tr>\n      <th>1</th>\n      <td>9999967</td>\n      <td>37.515458</td>\n      <td>127.021448</td>\n    </tr>\n    <tr>\n      <th>2</th>\n      <td>9999966</td>\n      <td>37.515458</td>\n      <td>127.021448</td>\n    </tr>\n    <tr>\n      <th>3</th>\n      <td>9999965</td>\n      <td>37.515458</td>\n      <td>127.021448</td>\n    </tr>\n    <tr>\n      <th>4</th>\n      <td>9999963</td>\n      <td>37.515458</td>\n      <td>127.021448</td>\n    </tr>\n  </tbody>\n</table>\n</div>"
     },
     "metadata": {},
     "output_type": "display_data"
    }
   ],
   "source": [
    "# Step 1: Import\n",
    "from IPython.display import display\n",
    "from src.db.maria_client import fetch_orders\n",
    "import importlib\n",
    "\n",
    "# Step 2: Fetch\n",
    "df = fetch_orders()\n",
    "\n",
    "# Step 3: Inspect\n",
    "display(df.head())"
   ],
   "metadata": {
    "collapsed": false,
    "ExecuteTime": {
     "end_time": "2025-04-22T02:54:46.480779Z",
     "start_time": "2025-04-22T02:54:45.663707Z"
    }
   },
   "execution_count": 1
  },
  {
   "cell_type": "code",
   "outputs": [],
   "source": [],
   "metadata": {
    "collapsed": false
   },
   "execution_count": null
  },
  {
   "cell_type": "code",
   "outputs": [],
   "source": [],
   "metadata": {
    "collapsed": false
   }
  }
 ],
 "metadata": {
  "kernelspec": {
   "name": "python3",
   "language": "python",
   "display_name": "Python 3 (ipykernel)"
  }
 },
 "nbformat": 4,
 "nbformat_minor": 0
}
